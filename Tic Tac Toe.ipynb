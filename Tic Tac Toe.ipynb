{
 "cells": [
  {
   "cell_type": "code",
   "execution_count": 1,
   "metadata": {},
   "outputs": [],
   "source": [
    "current_row = [' ','O','X','O','X','O','X','X','O',' ']\n",
    "\n",
    "def game_show(current_row):\n",
    "    print('{0:-^18}'.format('This is the position you can choose'))\n",
    "    print('{0:^3} | {1:^3} | {2:^3}'.format('7','8','9'))\n",
    "    print('{0:_^15}'.format(''))\n",
    "    print('{0:^3} | {1:^3} | {2:^3}'.format('4','5','6'))\n",
    "    print('{0:_^15}'.format(''))\n",
    "    print('{0:^3} | {1:^3} | {2:^3}'.format('1','2','3'))\n",
    "    print('{0:-^18}'.format('Here is your current game'))\n",
    "    print('{0:^3} | {1:^3} | {2:^3}'.format(current_row[7],current_row[8],current_row[9]))\n",
    "    print('{0:_^15}'.format(''))\n",
    "    print('{0:^3} | {1:^3} | {2:^3}'.format(current_row[4],current_row[5],current_row[6]))\n",
    "    print('{0:_^15}'.format(''))\n",
    "    print('{0:^3} | {1:^3} | {2:^3}'.format(current_row[1],current_row[2],current_row[3]))"
   ]
  },
  {
   "cell_type": "code",
   "execution_count": 2,
   "metadata": {},
   "outputs": [
    {
     "name": "stdout",
     "output_type": "stream",
     "text": [
      "This is the position you can choose\n",
      " 7  |  8  |  9 \n",
      "_______________\n",
      " 4  |  5  |  6 \n",
      "_______________\n",
      " 1  |  2  |  3 \n",
      "Here is your current game\n",
      " X  |  O  |    \n",
      "_______________\n",
      " X  |  O  |  X \n",
      "_______________\n",
      " O  |  X  |  O \n"
     ]
    }
   ],
   "source": [
    "game_show(current_row)"
   ]
  },
  {
   "cell_type": "code",
   "execution_count": 3,
   "metadata": {},
   "outputs": [],
   "source": [
    "from IPython.display import clear_output\n",
    "\n",
    "def player_position():\n",
    "    position = 'start'\n",
    "    number = False\n",
    "    while position.isdigit() == False or number == False:\n",
    "        position = input('Choose your position 1 to 9 : ')\n",
    "        if position.isdigit() == False:\n",
    "            clear_output()\n",
    "            print('Sorry, That is not number')\n",
    "        elif position.isdigit() == True:\n",
    "            if int(position) in range(1,10):\n",
    "                        number = True\n",
    "                    \n",
    "            else:\n",
    "                clear_output()\n",
    "                print('Sorry, number is out of range')\n",
    "                number = False\n",
    "    \n",
    "    return int(position)"
   ]
  },
  {
   "cell_type": "code",
   "execution_count": 4,
   "metadata": {},
   "outputs": [
    {
     "name": "stdout",
     "output_type": "stream",
     "text": [
      "Choose your position 1 to 9 : 9\n"
     ]
    },
    {
     "data": {
      "text/plain": [
       "9"
      ]
     },
     "execution_count": 4,
     "metadata": {},
     "output_type": "execute_result"
    }
   ],
   "source": [
    "player_position()"
   ]
  },
  {
   "cell_type": "code",
   "execution_count": 5,
   "metadata": {},
   "outputs": [],
   "source": [
    "def empty_space_check(current_row,position):\n",
    "    \n",
    "    while current_row[int(position)] != ' ':\n",
    "        clear_output()\n",
    "        print('Sorry, someone took this position')\n",
    "        game_show(current_row)\n",
    "        position = input('Choose your position 1 to 9 : ')\n",
    "        \n",
    "    return int(position)"
   ]
  },
  {
   "cell_type": "code",
   "execution_count": 6,
   "metadata": {},
   "outputs": [
    {
     "ename": "NameError",
     "evalue": "name 'position' is not defined",
     "output_type": "error",
     "traceback": [
      "\u001b[0;31m---------------------------------------------------------------------------\u001b[0m",
      "\u001b[0;31mNameError\u001b[0m                                 Traceback (most recent call last)",
      "\u001b[0;32m<ipython-input-6-1a93b870fb02>\u001b[0m in \u001b[0;36m<module>\u001b[0;34m\u001b[0m\n\u001b[0;32m----> 1\u001b[0;31m \u001b[0mempty_space_check\u001b[0m\u001b[0;34m(\u001b[0m\u001b[0mcurrent_row\u001b[0m\u001b[0;34m,\u001b[0m\u001b[0mposition\u001b[0m\u001b[0;34m)\u001b[0m\u001b[0;34m\u001b[0m\u001b[0;34m\u001b[0m\u001b[0m\n\u001b[0m",
      "\u001b[0;31mNameError\u001b[0m: name 'position' is not defined"
     ]
    }
   ],
   "source": [
    "empty_space_check(current_row,position)"
   ]
  },
  {
   "cell_type": "code",
   "execution_count": 7,
   "metadata": {},
   "outputs": [],
   "source": [
    "def welcome_game():\n",
    "    player1 = 'start'\n",
    "    player2 = 'second'\n",
    "    while player1 not in ['X','O']:\n",
    "        player1 = input('PLAYER 1, please choose your marker X or O : ').upper()\n",
    "        if player1 not in ['X','O']:\n",
    "            clear_output()\n",
    "            print('Sorry, your warrior is not in the option.')\n",
    "    if player1 == 'X':\n",
    "        return ('X','O')\n",
    "    else:\n",
    "        return ('O','X')"
   ]
  },
  {
   "cell_type": "code",
   "execution_count": 8,
   "metadata": {},
   "outputs": [
    {
     "name": "stdout",
     "output_type": "stream",
     "text": [
      "PLAYER 1, please choose your marker X or O : X\n"
     ]
    },
    {
     "data": {
      "text/plain": [
       "('X', 'O')"
      ]
     },
     "execution_count": 8,
     "metadata": {},
     "output_type": "execute_result"
    }
   ],
   "source": [
    "welcome_game()"
   ]
  },
  {
   "cell_type": "code",
   "execution_count": 9,
   "metadata": {},
   "outputs": [],
   "source": [
    "def game_replacement(current_row,position,player):\n",
    "    current_row[position] = player\n",
    "    return current_row"
   ]
  },
  {
   "cell_type": "code",
   "execution_count": 10,
   "metadata": {},
   "outputs": [
    {
     "data": {
      "text/plain": [
       "[' ', 'X', 'X', 'O', 'X', 'O', 'X', 'X', 'O', ' ']"
      ]
     },
     "execution_count": 10,
     "metadata": {},
     "output_type": "execute_result"
    }
   ],
   "source": [
    "game_replacement(current_row,1,'X')"
   ]
  },
  {
   "cell_type": "code",
   "execution_count": 11,
   "metadata": {},
   "outputs": [],
   "source": [
    "def space_check(current_row,position):\n",
    "    return current_row[position] == ' '"
   ]
  },
  {
   "cell_type": "code",
   "execution_count": 12,
   "metadata": {},
   "outputs": [
    {
     "data": {
      "text/plain": [
       "False"
      ]
     },
     "execution_count": 12,
     "metadata": {},
     "output_type": "execute_result"
    }
   ],
   "source": [
    "space_check(current_row,2)"
   ]
  },
  {
   "cell_type": "code",
   "execution_count": 13,
   "metadata": {},
   "outputs": [],
   "source": [
    "def win_check(current_row,player):\n",
    "    return ((current_row[1] == player and current_row[2] == player and current_row[3] == player) or\n",
    "           (current_row[4] == player and current_row[5] == player and current_row[6] == player) or\n",
    "           (current_row[7] == player and current_row[8] == player and current_row[9] == player) or\n",
    "           (current_row[1] == player and current_row[4] == player and current_row[7] == player) or\n",
    "           (current_row[2] == player and current_row[5] == player and current_row[8] == player) or\n",
    "           (current_row[3] == player and current_row[6] == player and current_row[9] == player) or\n",
    "           (current_row[7] == player and current_row[8] == player and current_row[9] == player) or\n",
    "           (current_row[1] == player and current_row[5] == player and current_row[9] == player) or\n",
    "           (current_row[3] == player and current_row[5] == player and current_row[7] == player))"
   ]
  },
  {
   "cell_type": "code",
   "execution_count": 14,
   "metadata": {},
   "outputs": [
    {
     "data": {
      "text/plain": [
       "True"
      ]
     },
     "execution_count": 14,
     "metadata": {},
     "output_type": "execute_result"
    }
   ],
   "source": [
    "win_check(current_row,'X')"
   ]
  },
  {
   "cell_type": "code",
   "execution_count": 15,
   "metadata": {},
   "outputs": [],
   "source": [
    "def fullboard_check(current_row):\n",
    "    for i in range(1,10):\n",
    "        if space_check(current_row,i):\n",
    "            return False\n",
    "    return True"
   ]
  },
  {
   "cell_type": "code",
   "execution_count": 16,
   "metadata": {},
   "outputs": [
    {
     "data": {
      "text/plain": [
       "False"
      ]
     },
     "execution_count": 16,
     "metadata": {},
     "output_type": "execute_result"
    }
   ],
   "source": [
    "fullboard_check(current_row)"
   ]
  },
  {
   "cell_type": "code",
   "execution_count": 17,
   "metadata": {},
   "outputs": [],
   "source": [
    "def game_on():\n",
    "    choice = 'start'\n",
    "    while choice not in ['Y','N']:\n",
    "        choice = input('Do You want to play one more game? Y or N : ').upper()\n",
    "        if choice not in ['Y','N']:\n",
    "            clear_output()\n",
    "            print('sorry, I dont understand your answer')\n",
    "    if choice == 'Y':\n",
    "        return True\n",
    "    elif choice == 'N':\n",
    "        return False"
   ]
  },
  {
   "cell_type": "code",
   "execution_count": 18,
   "metadata": {},
   "outputs": [
    {
     "name": "stdout",
     "output_type": "stream",
     "text": [
      "Do You want to play one more game? Y or N : N\n"
     ]
    },
    {
     "data": {
      "text/plain": [
       "False"
      ]
     },
     "execution_count": 18,
     "metadata": {},
     "output_type": "execute_result"
    }
   ],
   "source": [
    "game_on()"
   ]
  },
  {
   "cell_type": "code",
   "execution_count": null,
   "metadata": {},
   "outputs": [
    {
     "name": "stdout",
     "output_type": "stream",
     "text": [
      "This is the position you can choose\n",
      " 7  |  8  |  9 \n",
      "_______________\n",
      " 4  |  5  |  6 \n",
      "_______________\n",
      " 1  |  2  |  3 \n",
      "Here is your current game\n",
      "    |  X  |    \n",
      "_______________\n",
      "    |  X  |  O \n",
      "_______________\n",
      "    |  X  |  O \n",
      "congratulations, player1 is the winner!\n"
     ]
    }
   ],
   "source": [
    "game_continue = True\n",
    "\n",
    "while game_continue:\n",
    "    current_row = [' ']*10\n",
    "    clear_output()\n",
    "    print('Welcome to Tic Tac Toe')\n",
    "    player1 , player2 = welcome_game()\n",
    "    \n",
    "    game_show(current_row)\n",
    "    print('player1, please choose your position')\n",
    "    pos = player_position()\n",
    "    game_replacement(current_row,pos,player1)\n",
    "    \n",
    "    clear_output()\n",
    "    game_show(current_row)\n",
    "    print('now its your turn player2')\n",
    "    pos = player_position()\n",
    "    pos = empty_space_check(current_row,pos)    \n",
    "    game_replacement(current_row,pos,player2)\n",
    "    \n",
    "    a = True\n",
    "    while a:\n",
    "        clear_output()\n",
    "        game_show(current_row)\n",
    "        print('now its your turn player1')\n",
    "        pos = player_position()\n",
    "        pos = empty_space_check(current_row,pos)    \n",
    "        game_replacement(current_row,pos,player1)\n",
    "        if win_check(current_row,player1):\n",
    "            clear_output()\n",
    "            game_show(current_row)\n",
    "            print('congratulations, player1 is the winner!')\n",
    "            a = False\n",
    "            break\n",
    "        else:\n",
    "            if fullboard_check(current_row):\n",
    "                clear_output()\n",
    "                game_show(current_row)\n",
    "                print('Full board, no one win')\n",
    "                a = False\n",
    "                break\n",
    "            else:\n",
    "                pass\n",
    "        \n",
    "        clear_output()\n",
    "        game_show(current_row)\n",
    "        print('now its your turn player2')\n",
    "        pos = player_position()\n",
    "        pos = empty_space_check(current_row,pos)    \n",
    "        game_replacement(current_row,pos,player2)\n",
    "        if win_check(current_row,player2):\n",
    "            clear_output()\n",
    "            game_show(current_row)\n",
    "            print('congratulations, player2 is the winner!')\n",
    "            a = False\n",
    "            break\n",
    "        else:\n",
    "            if fullboard_check(current_row):\n",
    "                clear_output()\n",
    "                game_show(current_row)\n",
    "                print('Full board, no one win')\n",
    "                a = False\n",
    "                break\n",
    "            else:\n",
    "                pass\n",
    "    \n",
    "    game_continue = game_on()"
   ]
  },
  {
   "cell_type": "code",
   "execution_count": null,
   "metadata": {},
   "outputs": [],
   "source": []
  }
 ],
 "metadata": {
  "kernelspec": {
   "display_name": "Python 3",
   "language": "python",
   "name": "python3"
  },
  "language_info": {
   "codemirror_mode": {
    "name": "ipython",
    "version": 3
   },
   "file_extension": ".py",
   "mimetype": "text/x-python",
   "name": "python",
   "nbconvert_exporter": "python",
   "pygments_lexer": "ipython3",
   "version": "3.8.3"
  }
 },
 "nbformat": 4,
 "nbformat_minor": 4
}
